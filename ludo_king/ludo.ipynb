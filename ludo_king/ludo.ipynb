{
 "cells": [
  {
   "cell_type": "code",
   "execution_count": 2,
   "metadata": {},
   "outputs": [],
   "source": [
    "from selenium import webdriver\n",
    "from selenium.webdriver.chrome.options import Options\n",
    "from selenium.webdriver.common.by import By\n",
    "import pandas as pd"
   ]
  },
  {
   "cell_type": "code",
   "execution_count": 20,
   "metadata": {},
   "outputs": [
    {
     "name": "stderr",
     "output_type": "stream",
     "text": [
      "C:\\Users\\dm669\\AppData\\Local\\Temp\\ipykernel_25088\\407095214.py:5: DeprecationWarning: executable_path has been deprecated, please pass in a Service object\n",
      "  chr_driver = webdriver.Chrome(driver_path, options=chr_options)\n"
     ]
    },
    {
     "name": "stdout",
     "output_type": "stream",
     "text": [
      "Ludo King™ \n"
     ]
    }
   ],
   "source": [
    "def browser_function():\n",
    "    driver_path = \"C:/Users/dm669/OneDrive/Documents/chrome webdriver/chromedriver.exe\"\n",
    "    chr_options = Options()\n",
    "    chr_options.add_experimental_option(\"detach\", True)\n",
    "    chr_driver = webdriver.Chrome(driver_path, options=chr_options)\n",
    "    chr_driver.maximize_window()\n",
    "    chr_driver.get(\"https://play.google.com/store/apps/details?id=com.ludo.king&gl=in&hl=en\")\n",
    "    t_title=(chr_driver.title).split(\"-\")[0]\n",
    "    print(t_title)\n",
    "browser_function()"
   ]
  },
  {
   "cell_type": "code",
   "execution_count": null,
   "metadata": {},
   "outputs": [],
   "source": [
    "def browser_function():\n",
    "    driver_path = \"C:/Users/dm669/OneDrive/Documents/chrome webdriver/chromedriver.exe\"\n",
    "    chr_options = Options()\n",
    "    chr_options.add_experimental_option(\"detach\", True)\n",
    "    chr_driver = webdriver.Chrome(driver_path, options=chr_options)\n",
    "    chr_driver.maximize_window()\n",
    "    chr_driver.get(\"https://play.google.com/store/apps/details?id=com.ludo.king&gl=in&hl=en\")\n",
    "    chr_driver.find_element(By.XPATH, \"//i[@class='google-material-icons VfPpkd-kBDsod W7A5Qb']\").click()\n",
    "    t_description=chr_driver.find_element(By.XPATH, \"//div/div[@jsname='bN97Pc']\").get_attribute(\"innerText\")\n",
    "    print(t_description.splitlines())\n",
    "browser_function()"
   ]
  },
  {
   "cell_type": "code",
   "execution_count": 23,
   "metadata": {},
   "outputs": [
    {
     "name": "stderr",
     "output_type": "stream",
     "text": [
      "C:\\Users\\dm669\\AppData\\Local\\Temp\\ipykernel_25088\\339481139.py:5: DeprecationWarning: executable_path has been deprecated, please pass in a Service object\n",
      "  chr_driver = webdriver.Chrome(driver_path, options=chr_options)\n"
     ]
    },
    {
     "name": "stdout",
     "output_type": "stream",
     "text": [
      "4.2\n"
     ]
    }
   ],
   "source": [
    "def browser_function():\n",
    "    driver_path = \"C:/Users/dm669/OneDrive/Documents/chrome webdriver/chromedriver.exe\"\n",
    "    chr_options = Options()\n",
    "    chr_options.add_experimental_option(\"detach\", True)\n",
    "    chr_driver = webdriver.Chrome(driver_path, options=chr_options)\n",
    "    chr_driver.maximize_window()\n",
    "    chr_driver.get(\"https://play.google.com/store/apps/details?id=com.ludo.king&gl=in&hl=en\")\n",
    "    rating=chr_driver.find_element(By.XPATH, \"//div[@class='jILTFe']\").text\n",
    "    print(rating)\n",
    "\n",
    "browser_function()   "
   ]
  },
  {
   "cell_type": "code",
   "execution_count": 25,
   "metadata": {},
   "outputs": [
    {
     "name": "stderr",
     "output_type": "stream",
     "text": [
      "C:\\Users\\dm669\\AppData\\Local\\Temp\\ipykernel_25088\\3276206285.py:5: DeprecationWarning: executable_path has been deprecated, please pass in a Service object\n",
      "  chr_driver = webdriver.Chrome(driver_path, options=chr_options)\n"
     ]
    },
    {
     "name": "stdout",
     "output_type": "stream",
     "text": [
      "9.41M reviews\n"
     ]
    }
   ],
   "source": [
    "def browser_function():\n",
    "    driver_path = \"C:/Users/dm669/OneDrive/Documents/chrome webdriver/chromedriver.exe\"\n",
    "    chr_options = Options()\n",
    "    chr_options.add_experimental_option(\"detach\", True)\n",
    "    chr_driver = webdriver.Chrome(driver_path, options=chr_options)\n",
    "    chr_driver.maximize_window()\n",
    "    chr_driver.get(\"https://play.google.com/store/apps/details?id=com.ludo.king&gl=in&hl=en\")\n",
    "    total_rating=chr_driver.find_element(By.XPATH, \"//div[@class='EHUI5b']\").text\n",
    "    print(total_rating)\n",
    "\n",
    "browser_function()"
   ]
  },
  {
   "cell_type": "code",
   "execution_count": 15,
   "metadata": {},
   "outputs": [
    {
     "name": "stderr",
     "output_type": "stream",
     "text": [
      "C:\\Users\\dm669\\AppData\\Local\\Temp\\ipykernel_25088\\3886634346.py:5: DeprecationWarning: executable_path has been deprecated, please pass in a Service object\n",
      "  chr_driver = webdriver.Chrome(driver_path, options=chr_options)\n"
     ]
    },
    {
     "name": "stdout",
     "output_type": "stream",
     "text": [
      "Ludo King™ \n",
      "[\"*THIS IS OFFICIAL LUDO KING™ GAME800+ million downloads!Voice chat available.Most popular Ludo game. A first Ludo game of its kind available on mobile since 2016!Ludo King™ is a classic board game played between friends and family. Play the dice game of kings! Recall your childhood! In some places, Ludo is also known as Parchisi, Pachisi, parcheesi or Parchisi game.Ludo King is a cross platform multiplayer game that supports Desktop, Android, iOS and Windows mobile platform at same time. This game also support offline mode, where player can play with Computer or, Local multiplayer (pass and play mode). Play this dice game Ludo King. Best casual game in board games.New Game Themes available:Disco / Night mode ThemeNature ThemeEgypt ThemePinball ThemeCandy ThemeChristmas ThemePenguin ThemeBattle ThemeDiwali ThemePirate ThemeSui Dhaaga ThemeMarble ThemeAlien ThemeOctopus ThemeTaj Mahal ThemeWhat's new:* Quick mode* Tournament available* Voice Chat available* LIVE THEMES !!!* Real chat with friends and buddies* Make buddies worldwide* Challenge Facebook friends/buddies* Save/Load Ludo game option* More user-friendly UI* Support extended to low end devicesLudo King is the modern version of the royal game of Pachisi. A Ludo game which was played between Indian kings and queens in ancient times. Roll the Ludo dice and move your tokens to reach the center of the Ludo board. Beat other players, become the Ludo King.Ludo King follows the traditional rules and the old school look of the Ludo game. Just like the kings and queens of India's golden age, your fate depends on the roll of the Ludo's dice and your strategy of moving the tokens effectively. Features of Ludo King:* No internet connection required! Play against the computer.* Play with your family and friends through Local and Online Multiplayer.* Play 2 to 6 Player Local Multiplayer Mode.* Invite and challenge your Facebook Friends in a private game room and beat them to become Ludo King.* Play with world players and make them your buddies.* Private chat with your Facebook friends & Buddies.* Express yourself by sending emojis to your opponents. * Play Snake and Ladders on 7 different game board variations.Ludo King is a friends and family game that was once played by kings and now it can be enjoyed by you and your family and friends. You'll be playing this Ludo for hours and its fun for the whole family.Ludo King is a perfect time pass game of Ludo board game. You played Ludo in your childhood, now play on your phone and tablet.Another nostalgic game similar in structure is Snakes and Ladders. Like Ludo, you may have played this board game when you were young. Ludo King now incorporates this classic game as a whole new level. The objective of the game is simple: you start on 1 and you have to be the first one to make it to 100. However, you can only move the same number of tiles as the number you roll on a die. If you land on the same tile as the beginning of a ladder, then you can take the ladder as a shortcut and move on up. A game of ups and down, Snakes and Ladders has been a favorite for generations; and now you can play it too, with Ludo King. Ludo has different names in different regions and countries like Fia, Fia-spel (Fia the game), Le Jeu de Dada (The Game of Dada), Non t'arrabbiare, Fia med knuff (Fia with push), Cờ cá ngựa, Uckers, Griniaris, Petits Chevaux (Little Horses), Ki nevet a végén, برسي (Barjis/Barjees). People also misspell Ludo as Loodo, Chakka, Lido, Lado, Ledo, Leedo, Laado, or Lodo.Follow us to get news and updates:* Facebook: https://www.facebook.com/ludokinggame* Twitter: https://twitter.com/LudoKingGame* YouTube: https://www.youtube.com/c/LudoKing* Instagram: https://www.instagram.com/ludokinggame/* https://ludoking.comVersion7.8.0.248Updated onMay 6, 2023Requires Android4.4 and upDownloads500,000,000+ downloadsIn-app purchases₹4.00 - ₹13,500.00 per itemContent ratingRated for 3+\\xa0Learn morePermissionsView detailsInteractive elementsUsers Interact, In-Game PurchasesReleased onDec 17, 2016Offered byGametion GlobalCompatibility for your active devices *You need to login to view the compatible devices* How this app works on your deviceThis section shows you whether this app works on your devices. You’ll only see devices that are linked to your Google Account and that have been active in the last 30 days.\"]\n"
     ]
    }
   ],
   "source": [
    "raw_data = {'title': t_title,\n",
    "            'description': t_description,\n",
    "            'avg_rating': rating,\n",
    "            'total_rating': total_rating,\n",
    "            }\n",
    "\n",
    "df = pd.DataFrame(raw_data, columns = ['first_name', 'last_name', 'age',\n",
    "                                        'Comedy_Score', 'Rating_Score'])\n",
    "print(df)\n",
    "\n",
    "\n",
    "\n",
    "\n",
    "   \n",
    "   \n"
   ]
  },
  {
   "cell_type": "code",
   "execution_count": 25,
   "metadata": {},
   "outputs": [
    {
     "data": {
      "text/plain": [
       "\"*THIS IS OFFICIAL LUDO KING™ GAME\\n\\n800+ million downloads!\\n\\nVoice chat available.\\n\\nMost popular Ludo game. A first Ludo game of its kind available on mobile since 2016!\\n\\nLudo King™ is a classic board game played between friends and family. Play the dice game of kings! Recall your childhood! In some places, Ludo is also known as Parchisi, Pachisi, parcheesi or Parchisi game.\\n\\nLudo King is a cross platform multiplayer game that supports Desktop, Android, iOS and Windows mobile platform at same time. This game also support offline mode, where player can play with Computer or, Local multiplayer (pass and play mode). Play this dice game Ludo King. Best casual game in board games.\\n\\nNew Game Themes available:\\nDisco / Night mode Theme\\nNature Theme\\nEgypt Theme\\nPinball Theme\\nCandy Theme\\nChristmas Theme\\nPenguin Theme\\nBattle Theme\\nDiwali Theme\\nPirate Theme\\nSui Dhaaga Theme\\nMarble Theme\\nAlien Theme\\nOctopus Theme\\nTaj Mahal Theme\\n\\nWhat's new:\\n* Quick mode\\n* Tournament available\\n* Voice Chat available\\n* LIVE THEMES !!!\\n* Real chat with friends and buddies\\n* Make buddies worldwide\\n* Challenge Facebook friends/buddies\\n* Save/Load Ludo game option\\n* More user-friendly UI\\n* Support extended to low end devices\\n\\nLudo King is the modern version of the royal game of Pachisi. A Ludo game which was played between Indian kings and queens in ancient times. Roll the Ludo dice and move your tokens to reach the center of the Ludo board. Beat other players, become the Ludo King.\\n\\nLudo King follows the traditional rules and the old school look of the Ludo game. Just like the kings and queens of India's golden age, your fate depends on the roll of the Ludo's dice and your strategy of moving the tokens effectively.\\n\\nFeatures of Ludo King:\\n* No internet connection required! Play against the computer.\\n* Play with your family and friends through Local and Online Multiplayer.\\n* Play 2 to 6 Player Local Multiplayer Mode.\\n* Invite and challenge your Facebook Friends in a private game room and beat them to become Ludo King.\\n* Play with world players and make them your buddies.\\n* Private chat with your Facebook friends & Buddies.\\n* Express yourself by sending emojis to your opponents.\\n* Play Snake and Ladders on 7 different game board variations.\\n\\nLudo King is a friends and family game that was once played by kings and now it can be enjoyed by you and your family and friends. You'll be playing this Ludo for hours and its fun for the whole family.\\n\\nLudo King is a perfect time pass game of Ludo board game. You played Ludo in your childhood, now play on your phone and tablet.\\n\\nAnother nostalgic game similar in structure is Snakes and Ladders. Like Ludo, you may have played this board game when you were young. Ludo King now incorporates this classic game as a whole new level. The objective of the game is simple: you start on 1 and you have to be the first one to make it to 100. However, you can only move the same number of tiles as the number you roll on a die. If you land on the same tile as the beginning of a ladder, then you can take the ladder as a shortcut and move on up. A game of ups and down, Snakes and Ladders has been a favorite for generations; and now you can play it too, with Ludo King.\\n\\nLudo has different names in different regions and countries like Fia, Fia-spel (Fia the game), Le Jeu de Dada (The Game of Dada), Non t'arrabbiare, Fia med knuff (Fia with push), Cờ cá ngựa, Uckers, Griniaris, Petits Chevaux (Little Horses), Ki nevet a végén, برسي (Barjis/Barjees). People also misspell Ludo as Loodo, Chakka, Lido, Lado, Ledo, Leedo, Laado, or Lodo.\\n\\nFollow us to get news and updates:\\n* Facebook: https://www.facebook.com/ludokinggame\\n* Twitter: https://twitter.com/LudoKingGame\\n* YouTube: https://www.youtube.com/c/LudoKing\\n* Instagram: https://www.instagram.com/ludokinggame/\\n* https://ludoking.com\""
      ]
     },
     "execution_count": 25,
     "metadata": {},
     "output_type": "execute_result"
    }
   ],
   "source": [
    "import pandas as pd\n",
    "\n",
    "# with open(\"E:/Python/Ludoking.csv\", 'r') as file:\n",
    "\n",
    "data = pd.read_csv(\"E:\\Python\\Scrapping_selenium\\ludo_king\\Ludoking.csv\")\n",
    "\n",
    "data.description[0]\n"
   ]
  },
  {
   "cell_type": "code",
   "execution_count": null,
   "metadata": {},
   "outputs": [],
   "source": []
  },
  {
   "cell_type": "code",
   "execution_count": 40,
   "metadata": {},
   "outputs": [
    {
     "name": "stderr",
     "output_type": "stream",
     "text": [
      "C:\\Users\\dm669\\AppData\\Local\\Temp\\ipykernel_33468\\4268904680.py:5: DeprecationWarning: executable_path has been deprecated, please pass in a Service object\n",
      "  chr_driver = webdriver.Chrome(driver_path, options=chr_options)\n"
     ]
    }
   ],
   "source": [
    "templist = []\n",
    "driver_path = \"C:/Users/dm669/OneDrive/Documents/chrome webdriver/chromedriver.exe\"\n",
    "chr_options = Options()\n",
    "# chr_options.add_argument('--headless')\n",
    "chr_driver = webdriver.Chrome(driver_path, options=chr_options)\n",
    "# chr_driver.maximize_window()"
   ]
  },
  {
   "cell_type": "code",
   "execution_count": 41,
   "metadata": {},
   "outputs": [
    {
     "name": "stdout",
     "output_type": "stream",
     "text": [
      "Ludo King™ \n"
     ]
    }
   ],
   "source": [
    "# app_id, country_code and language_code to be fetched from Google Sheet\n",
    "app_id = 'com.ludo.king'\n",
    "country_code = 'in'\n",
    "language_code = 'en'\n",
    "url = f'https://play.google.com/store/apps/details?id={app_id}&gl={country_code}&hl={language_code}'\n",
    "chr_driver.get(url)\n",
    "t_title=(chr_driver.title).split(\"-\")[0]\n",
    "print(t_title)"
   ]
  },
  {
   "cell_type": "code",
   "execution_count": 42,
   "metadata": {},
   "outputs": [
    {
     "name": "stdout",
     "output_type": "stream",
     "text": [
      "4.2\n",
      "9.41M reviews\n"
     ]
    }
   ],
   "source": [
    "rating=chr_driver.find_element(By.XPATH, \"//div[@class='jILTFe']\").text\n",
    "print(rating)\n",
    "total_rating=chr_driver.find_element(By.XPATH, \"//div[@class='EHUI5b']\").text\n",
    "print(total_rating)"
   ]
  },
  {
   "cell_type": "code",
   "execution_count": 43,
   "metadata": {},
   "outputs": [],
   "source": [
    "chr_driver.find_element(By.XPATH, '//i[@class=\"google-material-icons VfPpkd-kBDsod W7A5Qb\"]').click()"
   ]
  },
  {
   "cell_type": "code",
   "execution_count": 44,
   "metadata": {},
   "outputs": [
    {
     "name": "stdout",
     "output_type": "stream",
     "text": [
      "*THIS IS OFFICIAL LUDO KING™ GAME\n",
      "\n",
      "800+ million downloads!\n",
      "\n",
      "Voice chat available.\n",
      "\n",
      "Most popular Ludo game. A first Ludo game of its kind available on mobile since 2016!\n",
      "\n",
      "Ludo King™ is a classic board game played between friends and family. Play the dice game of kings! Recall your childhood! In some places, Ludo is also known as Parchisi, Pachisi, parcheesi or Parchisi game.\n",
      "\n",
      "Ludo King is a cross platform multiplayer game that supports Desktop, Android, iOS and Windows mobile platform at same time. This game also support offline mode, where player can play with Computer or, Local multiplayer (pass and play mode). Play this dice game Ludo King. Best casual game in board games.\n",
      "\n",
      "New Game Themes available:\n",
      "Disco / Night mode Theme\n",
      "Nature Theme\n",
      "Egypt Theme\n",
      "Pinball Theme\n",
      "Candy Theme\n",
      "Christmas Theme\n",
      "Penguin Theme\n",
      "Battle Theme\n",
      "Diwali Theme\n",
      "Pirate Theme\n",
      "Sui Dhaaga Theme\n",
      "Marble Theme\n",
      "Alien Theme\n",
      "Octopus Theme\n",
      "Taj Mahal Theme\n",
      "\n",
      "What's new:\n",
      "* Quick mode\n",
      "* Tournament available\n",
      "* Voice Chat available\n",
      "* LIVE THEMES !!!\n",
      "* Real chat with friends and buddies\n",
      "* Make buddies worldwide\n",
      "* Challenge Facebook friends/buddies\n",
      "* Save/Load Ludo game option\n",
      "* More user-friendly UI\n",
      "* Support extended to low end devices\n",
      "\n",
      "Ludo King is the modern version of the royal game of Pachisi. A Ludo game which was played between Indian kings and queens in ancient times. Roll the Ludo dice and move your tokens to reach the center of the Ludo board. Beat other players, become the Ludo King.\n",
      "\n",
      "Ludo King follows the traditional rules and the old school look of the Ludo game. Just like the kings and queens of India's golden age, your fate depends on the roll of the Ludo's dice and your strategy of moving the tokens effectively.\n",
      "\n",
      "Features of Ludo King:\n",
      "* No internet connection required! Play against the computer.\n",
      "* Play with your family and friends through Local and Online Multiplayer.\n",
      "* Play 2 to 6 Player Local Multiplayer Mode.\n",
      "* Invite and challenge your Facebook Friends in a private game room and beat them to become Ludo King.\n",
      "* Play with world players and make them your buddies.\n",
      "* Private chat with your Facebook friends & Buddies.\n",
      "* Express yourself by sending emojis to your opponents.\n",
      "* Play Snake and Ladders on 7 different game board variations.\n",
      "\n",
      "Ludo King is a friends and family game that was once played by kings and now it can be enjoyed by you and your family and friends. You'll be playing this Ludo for hours and its fun for the whole family.\n",
      "\n",
      "Ludo King is a perfect time pass game of Ludo board game. You played Ludo in your childhood, now play on your phone and tablet.\n",
      "\n",
      "Another nostalgic game similar in structure is Snakes and Ladders. Like Ludo, you may have played this board game when you were young. Ludo King now incorporates this classic game as a whole new level. The objective of the game is simple: you start on 1 and you have to be the first one to make it to 100. However, you can only move the same number of tiles as the number you roll on a die. If you land on the same tile as the beginning of a ladder, then you can take the ladder as a shortcut and move on up. A game of ups and down, Snakes and Ladders has been a favorite for generations; and now you can play it too, with Ludo King.\n",
      "\n",
      "Ludo has different names in different regions and countries like Fia, Fia-spel (Fia the game), Le Jeu de Dada (The Game of Dada), Non t'arrabbiare, Fia med knuff (Fia with push), Cờ cá ngựa, Uckers, Griniaris, Petits Chevaux (Little Horses), Ki nevet a végén, برسي (Barjis/Barjees). People also misspell Ludo as Loodo, Chakka, Lido, Lado, Ledo, Leedo, Laado, or Lodo.\n",
      "\n",
      "Follow us to get news and updates:\n",
      "* Facebook: https://www.facebook.com/ludokinggame\n",
      "* Twitter: https://twitter.com/LudoKingGame\n",
      "* YouTube: https://www.youtube.com/c/LudoKing\n",
      "* Instagram: https://www.instagram.com/ludokinggame/\n",
      "* https://ludoking.com\n"
     ]
    }
   ],
   "source": [
    "t_description=chr_driver.find_element(By.XPATH, '//*[@id=\"yDmH0d\"]/div[4]/div[2]/div/div/div/div/div[2]/div[1]').text\n",
    "print(t_description)\n",
    "\n",
    "raw_data = {'title': t_title,\n",
    "            'description': t_description,\n",
    "            'avg_rating': rating,\n",
    "            'total_rating': total_rating,\n",
    "            }\n",
    "templist.append(raw_data)\n"
   ]
  },
  {
   "cell_type": "code",
   "execution_count": 45,
   "metadata": {},
   "outputs": [
    {
     "data": {
      "text/html": [
       "<div>\n",
       "<style scoped>\n",
       "    .dataframe tbody tr th:only-of-type {\n",
       "        vertical-align: middle;\n",
       "    }\n",
       "\n",
       "    .dataframe tbody tr th {\n",
       "        vertical-align: top;\n",
       "    }\n",
       "\n",
       "    .dataframe thead th {\n",
       "        text-align: right;\n",
       "    }\n",
       "</style>\n",
       "<table border=\"1\" class=\"dataframe\">\n",
       "  <thead>\n",
       "    <tr style=\"text-align: right;\">\n",
       "      <th></th>\n",
       "      <th>title</th>\n",
       "      <th>description</th>\n",
       "      <th>avg_rating</th>\n",
       "      <th>total_rating</th>\n",
       "    </tr>\n",
       "  </thead>\n",
       "  <tbody>\n",
       "    <tr>\n",
       "      <th>0</th>\n",
       "      <td>Ludo King™</td>\n",
       "      <td>*THIS IS OFFICIAL LUDO KING™ GAME\\n\\n800+ mill...</td>\n",
       "      <td>4.2</td>\n",
       "      <td>9.41M reviews</td>\n",
       "    </tr>\n",
       "  </tbody>\n",
       "</table>\n",
       "</div>"
      ],
      "text/plain": [
       "         title                                        description avg_rating  \\\n",
       "0  Ludo King™   *THIS IS OFFICIAL LUDO KING™ GAME\\n\\n800+ mill...        4.2   \n",
       "\n",
       "    total_rating  \n",
       "0  9.41M reviews  "
      ]
     },
     "execution_count": 45,
     "metadata": {},
     "output_type": "execute_result"
    }
   ],
   "source": [
    "df = pd.DataFrame(templist, columns = ['title', 'description', 'avg_rating','total_rating'])\n",
    "df"
   ]
  },
  {
   "cell_type": "code",
   "execution_count": 46,
   "metadata": {},
   "outputs": [],
   "source": [
    "df.to_csv(\"Ludoking.csv\")\n"
   ]
  },
  {
   "cell_type": "code",
   "execution_count": 47,
   "metadata": {},
   "outputs": [],
   "source": [
    "chr_driver.close()"
   ]
  }
 ],
 "metadata": {
  "kernelspec": {
   "display_name": "Python 3",
   "language": "python",
   "name": "python3"
  },
  "language_info": {
   "codemirror_mode": {
    "name": "ipython",
    "version": 3
   },
   "file_extension": ".py",
   "mimetype": "text/x-python",
   "name": "python",
   "nbconvert_exporter": "python",
   "pygments_lexer": "ipython3",
   "version": "3.10.0rc2"
  },
  "orig_nbformat": 4
 },
 "nbformat": 4,
 "nbformat_minor": 2
}
