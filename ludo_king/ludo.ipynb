{
 "cells": [
  {
   "cell_type": "code",
   "execution_count": 11,
   "metadata": {},
   "outputs": [],
   "source": [
    "from selenium import webdriver\n",
    "from selenium.webdriver.chrome.options import Options\n",
    "from selenium.webdriver.common.by import By\n",
    "import pandas as pd"
   ]
  },
  {
   "cell_type": "code",
   "execution_count": null,
   "metadata": {},
   "outputs": [],
   "source": [
    "templist = []\n",
    "driver_path = \"C:/Users/dm669/OneDrive/Documents/chrome webdriver/chromedriver.exe\"\n",
    "chr_options = Options()\n",
    "# chr_options.add_argument('--headless')\n",
    "chr_driver = webdriver.Chrome(driver_path, options=chr_options)\n",
    "# chr_driver.maximize_window()"
   ]
  },
  {
   "cell_type": "code",
   "execution_count": null,
   "metadata": {},
   "outputs": [],
   "source": [
    "# app_id, country_code and language_code to be fetched from Google Sheet\n",
    "app_id = 'com.ludo.king'\n",
    "country_code = 'in'\n",
    "language_code = 'en'\n",
    "# https://play.google.com/store/apps/details?id=com.ludo.king&gl=in&hl=en\n",
    "url = f'https://play.google.com/store/apps/details?id={app_id}&gl={country_code}&hl={language_code}'\n",
    "chr_driver.get(url)\n",
    "t_title=(chr_driver.title).split(\"-\")[0]\n",
    "print(t_title)"
   ]
  },
  {
   "cell_type": "code",
   "execution_count": null,
   "metadata": {},
   "outputs": [],
   "source": [
    "rating=chr_driver.find_element(By.XPATH, \"//div[@class='jILTFe']\").text\n",
    "print(rating)\n",
    "total_rating=chr_driver.find_element(By.XPATH, \"//div[@class='EHUI5b']\").text\n",
    "print(total_rating)"
   ]
  },
  {
   "cell_type": "code",
   "execution_count": 17,
   "metadata": {},
   "outputs": [],
   "source": [
    "\n",
    "chr_driver.find_element(By.XPATH, '//i[@class=\"google-material-icons VfPpkd-kBDsod W7A5Qb\"]').click()"
   ]
  },
  {
   "cell_type": "code",
   "execution_count": null,
   "metadata": {},
   "outputs": [],
   "source": [
    "# t_description=chr_driver.find_element(By.XPATH, '//*[@id=\"yDmH0d\"]/div[4]/div[2]/div/div/div/div/div[2]/div[1]').text\n",
    "t_description=chr_driver.find_element(By.XPATH, \"//div/div[@jsname='bN97Pc']\").get_attribute(\"innerText\")\n",
    "print(t_description)\n",
    "\n",
    "\n"
   ]
  },
  {
   "cell_type": "code",
   "execution_count": 19,
   "metadata": {},
   "outputs": [],
   "source": [
    "raw_data = {'title': t_title,\n",
    "            'description': t_description,\n",
    "            'avg_rating': rating,\n",
    "            'total_rating': total_rating,\n",
    "            }\n",
    "templist.append(raw_data)"
   ]
  },
  {
   "cell_type": "code",
   "execution_count": null,
   "metadata": {},
   "outputs": [],
   "source": [
    "df = pd.DataFrame(templist, columns = ['title', 'description', 'avg_rating','total_rating'])\n",
    "df"
   ]
  },
  {
   "cell_type": "code",
   "execution_count": 21,
   "metadata": {},
   "outputs": [],
   "source": [
    "df.to_csv(\"Ludoking.csv\", index=False)\n"
   ]
  },
  {
   "cell_type": "code",
   "execution_count": 22,
   "metadata": {},
   "outputs": [],
   "source": [
    "chr_driver.close()"
   ]
  },
  {
   "cell_type": "code",
   "execution_count": null,
   "metadata": {},
   "outputs": [],
   "source": [
    "# with open(\"E:/Python/Ludoking.csv\", 'r') as file:\n",
    "\n",
    "data = pd.read_csv(\"E:\\Python\\Scrapping_selenium\\ludo_king\\Ludoking.csv\")\n",
    "\n",
    "data.description[0]"
   ]
  }
 ],
 "metadata": {
  "kernelspec": {
   "display_name": "Python 3",
   "language": "python",
   "name": "python3"
  },
  "language_info": {
   "codemirror_mode": {
    "name": "ipython",
    "version": 3
   },
   "file_extension": ".py",
   "mimetype": "text/x-python",
   "name": "python",
   "nbconvert_exporter": "python",
   "pygments_lexer": "ipython3",
   "version": "3.10.0rc2"
  },
  "orig_nbformat": 4
 },
 "nbformat": 4,
 "nbformat_minor": 2
}
