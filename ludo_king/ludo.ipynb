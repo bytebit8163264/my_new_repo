{
 "cells": [
  {
   "cell_type": "code",
   "execution_count": 26,
   "metadata": {},
   "outputs": [],
   "source": [
    "from selenium import webdriver\n",
    "from selenium.webdriver.chrome.options import Options\n",
    "from selenium.webdriver.common.by import By\n",
    "import pandas as pd"
   ]
  },
  {
   "cell_type": "code",
   "execution_count": 20,
   "metadata": {},
   "outputs": [
    {
     "name": "stderr",
     "output_type": "stream",
     "text": [
      "C:\\Users\\dm669\\AppData\\Local\\Temp\\ipykernel_25088\\407095214.py:5: DeprecationWarning: executable_path has been deprecated, please pass in a Service object\n",
      "  chr_driver = webdriver.Chrome(driver_path, options=chr_options)\n"
     ]
    },
    {
     "name": "stdout",
     "output_type": "stream",
     "text": [
      "Ludo King™ \n"
     ]
    }
   ],
   "source": [
    "def browser_function():\n",
    "    driver_path = \"C:/Users/dm669/OneDrive/Documents/chrome webdriver/chromedriver.exe\"\n",
    "    chr_options = Options()\n",
    "    chr_options.add_experimental_option(\"detach\", True)\n",
    "    chr_driver = webdriver.Chrome(driver_path, options=chr_options)\n",
    "    chr_driver.maximize_window()\n",
    "    chr_driver.get(\"https://play.google.com/store/apps/details?id=com.ludo.king&gl=in&hl=en\")\n",
    "    t_title=(chr_driver.title).split(\"-\")[0]\n",
    "    print(t_title)\n",
    "browser_function()"
   ]
  },
  {
   "cell_type": "code",
   "execution_count": null,
   "metadata": {},
   "outputs": [],
   "source": [
    "def browser_function():\n",
    "    driver_path = \"C:/Users/dm669/OneDrive/Documents/chrome webdriver/chromedriver.exe\"\n",
    "    chr_options = Options()\n",
    "    chr_options.add_experimental_option(\"detach\", True)\n",
    "    chr_driver = webdriver.Chrome(driver_path, options=chr_options)\n",
    "    chr_driver.maximize_window()\n",
    "    chr_driver.get(\"https://play.google.com/store/apps/details?id=com.ludo.king&gl=in&hl=en\")\n",
    "    chr_driver.find_element(By.XPATH, \"//i[@class='google-material-icons VfPpkd-kBDsod W7A5Qb']\").click()\n",
    "    t_description=chr_driver.find_element(By.XPATH, \"//div/div[@jsname='bN97Pc']\").get_attribute(\"innerText\")\n",
    "    print(t_description.splitlines())\n",
    "browser_function()"
   ]
  },
  {
   "cell_type": "code",
   "execution_count": 23,
   "metadata": {},
   "outputs": [
    {
     "name": "stderr",
     "output_type": "stream",
     "text": [
      "C:\\Users\\dm669\\AppData\\Local\\Temp\\ipykernel_25088\\339481139.py:5: DeprecationWarning: executable_path has been deprecated, please pass in a Service object\n",
      "  chr_driver = webdriver.Chrome(driver_path, options=chr_options)\n"
     ]
    },
    {
     "name": "stdout",
     "output_type": "stream",
     "text": [
      "4.2\n"
     ]
    }
   ],
   "source": [
    "def browser_function():\n",
    "    driver_path = \"C:/Users/dm669/OneDrive/Documents/chrome webdriver/chromedriver.exe\"\n",
    "    chr_options = Options()\n",
    "    chr_options.add_experimental_option(\"detach\", True)\n",
    "    chr_driver = webdriver.Chrome(driver_path, options=chr_options)\n",
    "    chr_driver.maximize_window()\n",
    "    chr_driver.get(\"https://play.google.com/store/apps/details?id=com.ludo.king&gl=in&hl=en\")\n",
    "    rating=chr_driver.find_element(By.XPATH, \"//div[@class='jILTFe']\").text\n",
    "    print(rating)\n",
    "\n",
    "browser_function()   "
   ]
  },
  {
   "cell_type": "code",
   "execution_count": 25,
   "metadata": {},
   "outputs": [
    {
     "name": "stderr",
     "output_type": "stream",
     "text": [
      "C:\\Users\\dm669\\AppData\\Local\\Temp\\ipykernel_25088\\3276206285.py:5: DeprecationWarning: executable_path has been deprecated, please pass in a Service object\n",
      "  chr_driver = webdriver.Chrome(driver_path, options=chr_options)\n"
     ]
    },
    {
     "name": "stdout",
     "output_type": "stream",
     "text": [
      "9.41M reviews\n"
     ]
    }
   ],
   "source": [
    "def browser_function():\n",
    "    driver_path = \"C:/Users/dm669/OneDrive/Documents/chrome webdriver/chromedriver.exe\"\n",
    "    chr_options = Options()\n",
    "    chr_options.add_experimental_option(\"detach\", True)\n",
    "    chr_driver = webdriver.Chrome(driver_path, options=chr_options)\n",
    "    chr_driver.maximize_window()\n",
    "    chr_driver.get(\"https://play.google.com/store/apps/details?id=com.ludo.king&gl=in&hl=en\")\n",
    "    total_rating=chr_driver.find_element(By.XPATH, \"//div[@class='EHUI5b']\").text\n",
    "    print(total_rating)\n",
    "\n",
    "browser_function()"
   ]
  },
  {
   "cell_type": "code",
   "execution_count": 15,
   "metadata": {},
   "outputs": [
    {
     "name": "stderr",
     "output_type": "stream",
     "text": [
      "C:\\Users\\dm669\\AppData\\Local\\Temp\\ipykernel_25088\\3886634346.py:5: DeprecationWarning: executable_path has been deprecated, please pass in a Service object\n",
      "  chr_driver = webdriver.Chrome(driver_path, options=chr_options)\n"
     ]
    },
    {
     "name": "stdout",
     "output_type": "stream",
     "text": [
      "Ludo King™ \n",
      "[\"*THIS IS OFFICIAL LUDO KING™ GAME800+ million downloads!Voice chat available.Most popular Ludo game. A first Ludo game of its kind available on mobile since 2016!Ludo King™ is a classic board game played between friends and family. Play the dice game of kings! Recall your childhood! In some places, Ludo is also known as Parchisi, Pachisi, parcheesi or Parchisi game.Ludo King is a cross platform multiplayer game that supports Desktop, Android, iOS and Windows mobile platform at same time. This game also support offline mode, where player can play with Computer or, Local multiplayer (pass and play mode). Play this dice game Ludo King. Best casual game in board games.New Game Themes available:Disco / Night mode ThemeNature ThemeEgypt ThemePinball ThemeCandy ThemeChristmas ThemePenguin ThemeBattle ThemeDiwali ThemePirate ThemeSui Dhaaga ThemeMarble ThemeAlien ThemeOctopus ThemeTaj Mahal ThemeWhat's new:* Quick mode* Tournament available* Voice Chat available* LIVE THEMES !!!* Real chat with friends and buddies* Make buddies worldwide* Challenge Facebook friends/buddies* Save/Load Ludo game option* More user-friendly UI* Support extended to low end devicesLudo King is the modern version of the royal game of Pachisi. A Ludo game which was played between Indian kings and queens in ancient times. Roll the Ludo dice and move your tokens to reach the center of the Ludo board. Beat other players, become the Ludo King.Ludo King follows the traditional rules and the old school look of the Ludo game. Just like the kings and queens of India's golden age, your fate depends on the roll of the Ludo's dice and your strategy of moving the tokens effectively. Features of Ludo King:* No internet connection required! Play against the computer.* Play with your family and friends through Local and Online Multiplayer.* Play 2 to 6 Player Local Multiplayer Mode.* Invite and challenge your Facebook Friends in a private game room and beat them to become Ludo King.* Play with world players and make them your buddies.* Private chat with your Facebook friends & Buddies.* Express yourself by sending emojis to your opponents. * Play Snake and Ladders on 7 different game board variations.Ludo King is a friends and family game that was once played by kings and now it can be enjoyed by you and your family and friends. You'll be playing this Ludo for hours and its fun for the whole family.Ludo King is a perfect time pass game of Ludo board game. You played Ludo in your childhood, now play on your phone and tablet.Another nostalgic game similar in structure is Snakes and Ladders. Like Ludo, you may have played this board game when you were young. Ludo King now incorporates this classic game as a whole new level. The objective of the game is simple: you start on 1 and you have to be the first one to make it to 100. However, you can only move the same number of tiles as the number you roll on a die. If you land on the same tile as the beginning of a ladder, then you can take the ladder as a shortcut and move on up. A game of ups and down, Snakes and Ladders has been a favorite for generations; and now you can play it too, with Ludo King. Ludo has different names in different regions and countries like Fia, Fia-spel (Fia the game), Le Jeu de Dada (The Game of Dada), Non t'arrabbiare, Fia med knuff (Fia with push), Cờ cá ngựa, Uckers, Griniaris, Petits Chevaux (Little Horses), Ki nevet a végén, برسي (Barjis/Barjees). People also misspell Ludo as Loodo, Chakka, Lido, Lado, Ledo, Leedo, Laado, or Lodo.Follow us to get news and updates:* Facebook: https://www.facebook.com/ludokinggame* Twitter: https://twitter.com/LudoKingGame* YouTube: https://www.youtube.com/c/LudoKing* Instagram: https://www.instagram.com/ludokinggame/* https://ludoking.comVersion7.8.0.248Updated onMay 6, 2023Requires Android4.4 and upDownloads500,000,000+ downloadsIn-app purchases₹4.00 - ₹13,500.00 per itemContent ratingRated for 3+\\xa0Learn morePermissionsView detailsInteractive elementsUsers Interact, In-Game PurchasesReleased onDec 17, 2016Offered byGametion GlobalCompatibility for your active devices *You need to login to view the compatible devices* How this app works on your deviceThis section shows you whether this app works on your devices. You’ll only see devices that are linked to your Google Account and that have been active in the last 30 days.\"]\n"
     ]
    }
   ],
   "source": [
    "raw_data = {'title': t_title,\n",
    "            'description': t_description,\n",
    "            'avg_rating': rating,\n",
    "            'total_rating': total_rating,\n",
    "            }\n",
    "\n",
    "df = pd.DataFrame(raw_data, columns = ['first_name', 'last_name', 'age',\n",
    "                                        'Comedy_Score', 'Rating_Score'])\n",
    "print(df)\n",
    "\n",
    "\n",
    "\n",
    "\n",
    "   \n",
    "   \n"
   ]
  },
  {
   "cell_type": "code",
   "execution_count": 39,
   "metadata": {},
   "outputs": [
    {
     "data": {
      "text/plain": [
       "0    4.2\n",
       "Name: avg_rating, dtype: float64"
      ]
     },
     "execution_count": 39,
     "metadata": {},
     "output_type": "execute_result"
    }
   ],
   "source": [
    "import csv\n",
    "import pandas as pd\n",
    "\n",
    "# with open(\"E:/Python/Ludoking.csv\", 'r') as file:\n",
    "\n",
    "data = pd.read_csv(\"E:/Python/Ludoking.csv\")\n",
    "data\n",
    "data.avg_rating\n"
   ]
  }
 ],
 "metadata": {
  "kernelspec": {
   "display_name": "Python 3",
   "language": "python",
   "name": "python3"
  },
  "language_info": {
   "codemirror_mode": {
    "name": "ipython",
    "version": 3
   },
   "file_extension": ".py",
   "mimetype": "text/x-python",
   "name": "python",
   "nbconvert_exporter": "python",
   "pygments_lexer": "ipython3",
   "version": "3.10.0rc2"
  },
  "orig_nbformat": 4
 },
 "nbformat": 4,
 "nbformat_minor": 2
}
